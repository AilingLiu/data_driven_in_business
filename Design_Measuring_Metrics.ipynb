{
  "nbformat": 4,
  "nbformat_minor": 0,
  "metadata": {
    "colab": {
      "name": "Design Measuring Metrics.ipynb",
      "provenance": [],
      "collapsed_sections": [],
      "toc_visible": true,
      "include_colab_link": true
    },
    "kernelspec": {
      "name": "python3",
      "display_name": "Python 3"
    }
  },
  "cells": [
    {
      "cell_type": "markdown",
      "metadata": {
        "id": "view-in-github",
        "colab_type": "text"
      },
      "source": [
        "<a href=\"https://colab.research.google.com/github/AilingLiu/data_driven_in_business/blob/master/Design_Measuring_Metrics.ipynb\" target=\"_parent\"><img src=\"https://colab.research.google.com/assets/colab-badge.svg\" alt=\"Open In Colab\"/></a>"
      ]
    },
    {
      "cell_type": "code",
      "metadata": {
        "id": "VeWMTlNccrmX",
        "colab_type": "code",
        "colab": {}
      },
      "source": [
        "# common imports\n",
        "import os\n",
        "import pandas as pd\n",
        "import numpy as np\n",
        "import matplotlib.pyplot as plt\n",
        "import matplotlib as mpl\n",
        "import seaborn as sns\n",
        "from __future__ import division\n",
        "\n",
        "#import plotly.plotly as py\n",
        "import plotly.offline as pyoff\n",
        "import plotly.graph_objs as go\n",
        "\n",
        "#initiate visualization library for jupyter notebook \n",
        "pyoff.init_notebook_mode()\n",
        "\n",
        "\n",
        "# display dataframe\n",
        "pd.set_option('max_columns', 20)\n",
        "pd.set_option('max_colwidth', 40)\n",
        "\n",
        "# create the project directory\n",
        "ROOT_DIR = '.'\n",
        "PROJECT_ID = 'BUSINESS_OPTIMISATION'\n",
        "PROJECT_DIR = os.path.join(ROOT_DIR, PROJECT_ID)\n",
        "\n",
        "DATA_DIR = os.path.join(PROJECT_DIR, 'DATASETS')\n",
        "os.makedirs(DATA_DIR)\n",
        "\n",
        "IMAGE_DIR = os.path.join(PROJECT_DIR, 'IMAGES')\n",
        "os.makedirs(IMAGE_DIR)\n",
        "\n",
        "# where to store the images\n",
        "def save_fig(figname, path=IMAGE_DIR, format='png', tight_layout=True, dpi=400):\n",
        "  filepath=os.path.join(path, figname+'.'+format)\n",
        "  print('Image saved in: ', filepath)\n",
        "  if tight_layout:\n",
        "    plt.tight_layout()\n",
        "  plt.savefig(figname, dpi=dpi, format=format)\n",
        "\n",
        "# display the figure correctly\n",
        "%matplotlib inline\n",
        "mpl.rc('axes', labelsize=14)\n",
        "mpl.rc('xtick', labelsize=12)\n",
        "mpl.rc('ytick', labelsize=12)\n"
      ],
      "execution_count": 0,
      "outputs": []
    },
    {
      "cell_type": "markdown",
      "metadata": {
        "id": "9-vAeVDLg5xd",
        "colab_type": "text"
      },
      "source": [
        "# Get data"
      ]
    },
    {
      "cell_type": "code",
      "metadata": {
        "id": "Dyw51o8fdcVX",
        "colab_type": "code",
        "colab": {}
      },
      "source": [
        "import urllib\n",
        "from zipfile import ZipFile\n",
        "\n",
        "URL = 'https://storage.googleapis.com/kaggle-data-sets/3466/5596/bundle/archive.zip?GoogleAccessId=web-data@kaggle-161607.iam.gserviceaccount.com&Expires=1574104956&Signature=eOyN%2B6NNNHjfw9agLgqsBtzeGLF6B583LTlaLrfbYJEc9NK1b6Lo9w2BCF4zFvn4FYydyj62n3s%2BethLRKsqF0IuLWPwYd6r7CzkpwEs3%2FPhOrRWoMsnUXiSUk741%2FyxKGlw%2FqFoqNtRkX24shBTRayqHWAv15sL4OJxlHXNMrpX9esjdKG%2Feqd7qPd7XONf8d4DfTnGF35V0KeUNC1tnCZiukyePttx8PVFUaF78kJNj18XxoeAMd3HQ0GHfVdYVjdaWx9t7HE2%2BAgJB5Mw%2BoNcNZq4ma2VarYV07Q9%2B7sYn0Zr4sPHw9gqQJMj9NnJpvV%2BULI97YdQtmJWyYzCdQ%3D%3D&response-content-disposition=attachment%3B+filename%3Donlineretail.zip'\n",
        "\n",
        "def fetch_data(link=URL, path=DATA_DIR):\n",
        "  if not os.path.isdir(path):\n",
        "    os.makedirs(path)\n",
        "  file_path = os.path.join(path, 'retail.zip')\n",
        "  urllib.request.urlretrieve(link, file_path)\n",
        "  print('Data is downloaded in: ', file_path)\n",
        "  zip_ = ZipFile(file_path, 'r')\n",
        "  zip_.extractall(path)\n",
        "  zip_.close()\n",
        "  print('Extracted files as below: \\n')\n",
        "  print(os.listdir(path))"
      ],
      "execution_count": 0,
      "outputs": []
    },
    {
      "cell_type": "code",
      "metadata": {
        "id": "4HhO66twiJFI",
        "colab_type": "code",
        "colab": {
          "base_uri": "https://localhost:8080/",
          "height": 85
        },
        "outputId": "5464a5fa-8993-46e3-a67c-73acac32b119"
      },
      "source": [
        "fetch_data()"
      ],
      "execution_count": 14,
      "outputs": [
        {
          "output_type": "stream",
          "text": [
            "Data is downloaded in:  ./BUSINESS_OPTIMISATION/DATASETS/retail.zip\n",
            "Extracted files as below: \n",
            "\n",
            "['retail.zip', 'OnlineRetail.csv']\n"
          ],
          "name": "stdout"
        }
      ]
    },
    {
      "cell_type": "code",
      "metadata": {
        "id": "L0J1OSdDkGKt",
        "colab_type": "code",
        "colab": {
          "base_uri": "https://localhost:8080/",
          "height": 187
        },
        "outputId": "9fbf28b2-e67a-41e2-8006-3ff25eac1bcd"
      },
      "source": [
        "# Take a look\n",
        "!sed -n -e 1p -e 27,35p 'BUSINESS_OPTIMISATION/DATASETS/OnlineRetail.csv'"
      ],
      "execution_count": 21,
      "outputs": [
        {
          "output_type": "stream",
          "text": [
            "InvoiceNo,StockCode,Description,Quantity,InvoiceDate,UnitPrice,CustomerID,Country\r\n",
            "536369,21756,BATH BUILDING BLOCK WORD,3,12/1/2010 8:35,5.95,13047,United Kingdom\r\n",
            "536370,22728,ALARM CLOCK BAKELIKE PINK,24,12/1/2010 8:45,3.75,12583,France\r\n",
            "536370,22727,ALARM CLOCK BAKELIKE RED ,24,12/1/2010 8:45,3.75,12583,France\r\n",
            "536370,22726,ALARM CLOCK BAKELIKE GREEN,12,12/1/2010 8:45,3.75,12583,France\r\n",
            "536370,21724,PANDA AND BUNNIES STICKER SHEET,12,12/1/2010 8:45,0.85,12583,France\r\n",
            "536370,21883,STARS GIFT TAPE ,24,12/1/2010 8:45,0.65,12583,France\r\n",
            "536370,10002,INFLATABLE POLITICAL GLOBE ,48,12/1/2010 8:45,0.85,12583,France\r\n",
            "536370,21791,VINTAGE HEADS AND TAILS CARD GAME ,24,12/1/2010 8:45,1.25,12583,France\r\n",
            "536370,21035,SET/2 RED RETROSPOT TEA TOWELS ,18,12/1/2010 8:45,2.95,12583,France\r\n"
          ],
          "name": "stdout"
        }
      ]
    },
    {
      "cell_type": "code",
      "metadata": {
        "id": "NXGjIUJHhuK4",
        "colab_type": "code",
        "colab": {}
      },
      "source": [
        "# Load the data\n",
        "dateparse = lambda x: pd.datetime.strptime(x, '%m/%d/%Y %H:%M')\n",
        "\n",
        "def load_data(path=DATA_DIR):\n",
        "  filepath=os.path.join(path, 'OnlineRetail.csv')\n",
        "  return pd.read_csv(filepath, delimiter=',', parse_dates=['InvoiceDate'], infer_datetime_format=True, date_parser=dateparse, encoding='iso8859_2')"
      ],
      "execution_count": 0,
      "outputs": []
    },
    {
      "cell_type": "code",
      "metadata": {
        "id": "zCLw-fdqkAzx",
        "colab_type": "code",
        "colab": {
          "base_uri": "https://localhost:8080/",
          "height": 142
        },
        "outputId": "9c724900-9472-4c6f-cb47-f0fc4e16790f"
      },
      "source": [
        "retail = load_data()\n",
        "retail.head(3)"
      ],
      "execution_count": 39,
      "outputs": [
        {
          "output_type": "execute_result",
          "data": {
            "text/html": [
              "<div>\n",
              "<style scoped>\n",
              "    .dataframe tbody tr th:only-of-type {\n",
              "        vertical-align: middle;\n",
              "    }\n",
              "\n",
              "    .dataframe tbody tr th {\n",
              "        vertical-align: top;\n",
              "    }\n",
              "\n",
              "    .dataframe thead th {\n",
              "        text-align: right;\n",
              "    }\n",
              "</style>\n",
              "<table border=\"1\" class=\"dataframe\">\n",
              "  <thead>\n",
              "    <tr style=\"text-align: right;\">\n",
              "      <th></th>\n",
              "      <th>InvoiceNo</th>\n",
              "      <th>StockCode</th>\n",
              "      <th>Description</th>\n",
              "      <th>Quantity</th>\n",
              "      <th>InvoiceDate</th>\n",
              "      <th>UnitPrice</th>\n",
              "      <th>CustomerID</th>\n",
              "      <th>Country</th>\n",
              "    </tr>\n",
              "  </thead>\n",
              "  <tbody>\n",
              "    <tr>\n",
              "      <th>0</th>\n",
              "      <td>536365</td>\n",
              "      <td>85123A</td>\n",
              "      <td>WHITE HANGING HEART T-LIGHT HOLDER</td>\n",
              "      <td>6</td>\n",
              "      <td>2010-12-01 08:26:00</td>\n",
              "      <td>2.55</td>\n",
              "      <td>17850.0</td>\n",
              "      <td>United Kingdom</td>\n",
              "    </tr>\n",
              "    <tr>\n",
              "      <th>1</th>\n",
              "      <td>536365</td>\n",
              "      <td>71053</td>\n",
              "      <td>WHITE METAL LANTERN</td>\n",
              "      <td>6</td>\n",
              "      <td>2010-12-01 08:26:00</td>\n",
              "      <td>3.39</td>\n",
              "      <td>17850.0</td>\n",
              "      <td>United Kingdom</td>\n",
              "    </tr>\n",
              "    <tr>\n",
              "      <th>2</th>\n",
              "      <td>536365</td>\n",
              "      <td>84406B</td>\n",
              "      <td>CREAM CUPID HEARTS COAT HANGER</td>\n",
              "      <td>8</td>\n",
              "      <td>2010-12-01 08:26:00</td>\n",
              "      <td>2.75</td>\n",
              "      <td>17850.0</td>\n",
              "      <td>United Kingdom</td>\n",
              "    </tr>\n",
              "  </tbody>\n",
              "</table>\n",
              "</div>"
            ],
            "text/plain": [
              "  InvoiceNo StockCode                         Description  Quantity  \\\n",
              "0    536365    85123A  WHITE HANGING HEART T-LIGHT HOLDER         6   \n",
              "1    536365     71053                 WHITE METAL LANTERN         6   \n",
              "2    536365    84406B      CREAM CUPID HEARTS COAT HANGER         8   \n",
              "\n",
              "          InvoiceDate  UnitPrice  CustomerID         Country  \n",
              "0 2010-12-01 08:26:00       2.55     17850.0  United Kingdom  \n",
              "1 2010-12-01 08:26:00       3.39     17850.0  United Kingdom  \n",
              "2 2010-12-01 08:26:00       2.75     17850.0  United Kingdom  "
            ]
          },
          "metadata": {
            "tags": []
          },
          "execution_count": 39
        }
      ]
    },
    {
      "cell_type": "markdown",
      "metadata": {
        "id": "haZmxaIxtlbt",
        "colab_type": "text"
      },
      "source": [
        "# Describe the data"
      ]
    },
    {
      "cell_type": "code",
      "metadata": {
        "id": "n3WvbCujtnka",
        "colab_type": "code",
        "colab": {
          "base_uri": "https://localhost:8080/",
          "height": 238
        },
        "outputId": "0e5f588b-759b-4fe8-a21b-a76c361fe4ac"
      },
      "source": [
        "retail.info()"
      ],
      "execution_count": 42,
      "outputs": [
        {
          "output_type": "stream",
          "text": [
            "<class 'pandas.core.frame.DataFrame'>\n",
            "RangeIndex: 541909 entries, 0 to 541908\n",
            "Data columns (total 8 columns):\n",
            "InvoiceNo      541909 non-null object\n",
            "StockCode      541909 non-null object\n",
            "Description    540455 non-null object\n",
            "Quantity       541909 non-null int64\n",
            "InvoiceDate    541909 non-null datetime64[ns]\n",
            "UnitPrice      541909 non-null float64\n",
            "CustomerID     406829 non-null float64\n",
            "Country        541909 non-null object\n",
            "dtypes: datetime64[ns](1), float64(2), int64(1), object(4)\n",
            "memory usage: 33.1+ MB\n"
          ],
          "name": "stdout"
        }
      ]
    },
    {
      "cell_type": "markdown",
      "metadata": {
        "id": "LW1-fR25tsOC",
        "colab_type": "text"
      },
      "source": [
        "This dataset has 541,909 row, and 8 attributes. There are missing values in `Description`, `CustomerID`. \n",
        "\n",
        "Therea re one datetime format from `InvoiceDate`, and two numerical attributes from `Quantity`, `UnitPrice`. \n",
        "\n",
        "`CustomerID` should be categorical variable only."
      ]
    },
    {
      "cell_type": "code",
      "metadata": {
        "id": "TNqqHK-ZuO64",
        "colab_type": "code",
        "colab": {}
      },
      "source": [
        "retail['CustomerID'] = retail['CustomerID'].astype('object')"
      ],
      "execution_count": 0,
      "outputs": []
    },
    {
      "cell_type": "code",
      "metadata": {
        "id": "6cWx5mDutpEg",
        "colab_type": "code",
        "colab": {
          "base_uri": "https://localhost:8080/",
          "height": 297
        },
        "outputId": "7c716ea7-04a2-4259-961e-e8130444372c"
      },
      "source": [
        "retail.describe()"
      ],
      "execution_count": 48,
      "outputs": [
        {
          "output_type": "execute_result",
          "data": {
            "text/html": [
              "<div>\n",
              "<style scoped>\n",
              "    .dataframe tbody tr th:only-of-type {\n",
              "        vertical-align: middle;\n",
              "    }\n",
              "\n",
              "    .dataframe tbody tr th {\n",
              "        vertical-align: top;\n",
              "    }\n",
              "\n",
              "    .dataframe thead th {\n",
              "        text-align: right;\n",
              "    }\n",
              "</style>\n",
              "<table border=\"1\" class=\"dataframe\">\n",
              "  <thead>\n",
              "    <tr style=\"text-align: right;\">\n",
              "      <th></th>\n",
              "      <th>Quantity</th>\n",
              "      <th>UnitPrice</th>\n",
              "    </tr>\n",
              "  </thead>\n",
              "  <tbody>\n",
              "    <tr>\n",
              "      <th>count</th>\n",
              "      <td>541909.000000</td>\n",
              "      <td>541909.000000</td>\n",
              "    </tr>\n",
              "    <tr>\n",
              "      <th>mean</th>\n",
              "      <td>9.552250</td>\n",
              "      <td>4.611114</td>\n",
              "    </tr>\n",
              "    <tr>\n",
              "      <th>std</th>\n",
              "      <td>218.081158</td>\n",
              "      <td>96.759853</td>\n",
              "    </tr>\n",
              "    <tr>\n",
              "      <th>min</th>\n",
              "      <td>-80995.000000</td>\n",
              "      <td>-11062.060000</td>\n",
              "    </tr>\n",
              "    <tr>\n",
              "      <th>25%</th>\n",
              "      <td>1.000000</td>\n",
              "      <td>1.250000</td>\n",
              "    </tr>\n",
              "    <tr>\n",
              "      <th>50%</th>\n",
              "      <td>3.000000</td>\n",
              "      <td>2.080000</td>\n",
              "    </tr>\n",
              "    <tr>\n",
              "      <th>75%</th>\n",
              "      <td>10.000000</td>\n",
              "      <td>4.130000</td>\n",
              "    </tr>\n",
              "    <tr>\n",
              "      <th>max</th>\n",
              "      <td>80995.000000</td>\n",
              "      <td>38970.000000</td>\n",
              "    </tr>\n",
              "  </tbody>\n",
              "</table>\n",
              "</div>"
            ],
            "text/plain": [
              "            Quantity      UnitPrice\n",
              "count  541909.000000  541909.000000\n",
              "mean        9.552250       4.611114\n",
              "std       218.081158      96.759853\n",
              "min    -80995.000000  -11062.060000\n",
              "25%         1.000000       1.250000\n",
              "50%         3.000000       2.080000\n",
              "75%        10.000000       4.130000\n",
              "max     80995.000000   38970.000000"
            ]
          },
          "metadata": {
            "tags": []
          },
          "execution_count": 48
        }
      ]
    },
    {
      "cell_type": "code",
      "metadata": {
        "id": "pQxGhPLVubLi",
        "colab_type": "code",
        "colab": {
          "base_uri": "https://localhost:8080/",
          "height": 602
        },
        "outputId": "4b2d9ce8-e4e3-4e85-cc58-0467dceaad5b"
      },
      "source": [
        "from pandas.plotting import scatter_matrix\n",
        "\n",
        "scatter_matrix(retail, figsize=(12, 8))\n",
        "save_fig('Scaterplot_of_retail_num_attributes')"
      ],
      "execution_count": 46,
      "outputs": [
        {
          "output_type": "stream",
          "text": [
            "Image saved in:  ./BUSINESS_OPTIMISATION/IMAGES/Scaterplot_of_retail_num_attributes.png\n"
          ],
          "name": "stdout"
        },
        {
          "output_type": "display_data",
          "data": {
            "image/png": "[encoded data removed]",
            "text/plain": [
              "<Figure size 864x576 with 4 Axes>"
            ]
          },
          "metadata": {
            "tags": []
          }
        }
      ]
    },
    {
      "cell_type": "markdown",
      "metadata": {
        "id": "BAyh2L_ovAPD",
        "colab_type": "text"
      },
      "source": [
        "Both `quantity` and `unitprice` are tail-heavy. They have negative value that don't make sense. While 75% of the data fall below 10, their outliers go to 81k and 39k."
      ]
    },
    {
      "cell_type": "code",
      "metadata": {
        "id": "jATU2-o7vZji",
        "colab_type": "code",
        "colab": {
          "base_uri": "https://localhost:8080/",
          "height": 204
        },
        "outputId": "d049de85-0cbc-4f4b-9ed8-c67beb23c561"
      },
      "source": [
        "retail.query('Quantity < 0').head()"
      ],
      "execution_count": 50,
      "outputs": [
        {
          "output_type": "execute_result",
          "data": {
            "text/html": [
              "<div>\n",
              "<style scoped>\n",
              "    .dataframe tbody tr th:only-of-type {\n",
              "        vertical-align: middle;\n",
              "    }\n",
              "\n",
              "    .dataframe tbody tr th {\n",
              "        vertical-align: top;\n",
              "    }\n",
              "\n",
              "    .dataframe thead th {\n",
              "        text-align: right;\n",
              "    }\n",
              "</style>\n",
              "<table border=\"1\" class=\"dataframe\">\n",
              "  <thead>\n",
              "    <tr style=\"text-align: right;\">\n",
              "      <th></th>\n",
              "      <th>InvoiceNo</th>\n",
              "      <th>StockCode</th>\n",
              "      <th>Description</th>\n",
              "      <th>Quantity</th>\n",
              "      <th>InvoiceDate</th>\n",
              "      <th>UnitPrice</th>\n",
              "      <th>CustomerID</th>\n",
              "      <th>Country</th>\n",
              "    </tr>\n",
              "  </thead>\n",
              "  <tbody>\n",
              "    <tr>\n",
              "      <th>141</th>\n",
              "      <td>C536379</td>\n",
              "      <td>D</td>\n",
              "      <td>Discount</td>\n",
              "      <td>-1</td>\n",
              "      <td>2010-12-01 09:41:00</td>\n",
              "      <td>27.50</td>\n",
              "      <td>14527</td>\n",
              "      <td>United Kingdom</td>\n",
              "    </tr>\n",
              "    <tr>\n",
              "      <th>154</th>\n",
              "      <td>C536383</td>\n",
              "      <td>35004C</td>\n",
              "      <td>SET OF 3 COLOURED  FLYING DUCKS</td>\n",
              "      <td>-1</td>\n",
              "      <td>2010-12-01 09:49:00</td>\n",
              "      <td>4.65</td>\n",
              "      <td>15311</td>\n",
              "      <td>United Kingdom</td>\n",
              "    </tr>\n",
              "    <tr>\n",
              "      <th>235</th>\n",
              "      <td>C536391</td>\n",
              "      <td>22556</td>\n",
              "      <td>PLASTERS IN TIN CIRCUS PARADE</td>\n",
              "      <td>-12</td>\n",
              "      <td>2010-12-01 10:24:00</td>\n",
              "      <td>1.65</td>\n",
              "      <td>17548</td>\n",
              "      <td>United Kingdom</td>\n",
              "    </tr>\n",
              "    <tr>\n",
              "      <th>236</th>\n",
              "      <td>C536391</td>\n",
              "      <td>21984</td>\n",
              "      <td>PACK OF 12 PINK PAISLEY TISSUES</td>\n",
              "      <td>-24</td>\n",
              "      <td>2010-12-01 10:24:00</td>\n",
              "      <td>0.29</td>\n",
              "      <td>17548</td>\n",
              "      <td>United Kingdom</td>\n",
              "    </tr>\n",
              "    <tr>\n",
              "      <th>237</th>\n",
              "      <td>C536391</td>\n",
              "      <td>21983</td>\n",
              "      <td>PACK OF 12 BLUE PAISLEY TISSUES</td>\n",
              "      <td>-24</td>\n",
              "      <td>2010-12-01 10:24:00</td>\n",
              "      <td>0.29</td>\n",
              "      <td>17548</td>\n",
              "      <td>United Kingdom</td>\n",
              "    </tr>\n",
              "  </tbody>\n",
              "</table>\n",
              "</div>"
            ],
            "text/plain": [
              "    InvoiceNo StockCode                       Description  Quantity  \\\n",
              "141   C536379         D                          Discount        -1   \n",
              "154   C536383    35004C   SET OF 3 COLOURED  FLYING DUCKS        -1   \n",
              "235   C536391     22556    PLASTERS IN TIN CIRCUS PARADE        -12   \n",
              "236   C536391     21984  PACK OF 12 PINK PAISLEY TISSUES        -24   \n",
              "237   C536391     21983  PACK OF 12 BLUE PAISLEY TISSUES        -24   \n",
              "\n",
              "            InvoiceDate  UnitPrice CustomerID         Country  \n",
              "141 2010-12-01 09:41:00      27.50      14527  United Kingdom  \n",
              "154 2010-12-01 09:49:00       4.65      15311  United Kingdom  \n",
              "235 2010-12-01 10:24:00       1.65      17548  United Kingdom  \n",
              "236 2010-12-01 10:24:00       0.29      17548  United Kingdom  \n",
              "237 2010-12-01 10:24:00       0.29      17548  United Kingdom  "
            ]
          },
          "metadata": {
            "tags": []
          },
          "execution_count": 50
        }
      ]
    },
    {
      "cell_type": "code",
      "metadata": {
        "id": "Rsk53DHCvs6T",
        "colab_type": "code",
        "colab": {
          "base_uri": "https://localhost:8080/",
          "height": 111
        },
        "outputId": "dbf6b857-913b-40af-88f6-437be086f57c"
      },
      "source": [
        "retail.query('UnitPrice < 0').head()"
      ],
      "execution_count": 51,
      "outputs": [
        {
          "output_type": "execute_result",
          "data": {
            "text/html": [
              "<div>\n",
              "<style scoped>\n",
              "    .dataframe tbody tr th:only-of-type {\n",
              "        vertical-align: middle;\n",
              "    }\n",
              "\n",
              "    .dataframe tbody tr th {\n",
              "        vertical-align: top;\n",
              "    }\n",
              "\n",
              "    .dataframe thead th {\n",
              "        text-align: right;\n",
              "    }\n",
              "</style>\n",
              "<table border=\"1\" class=\"dataframe\">\n",
              "  <thead>\n",
              "    <tr style=\"text-align: right;\">\n",
              "      <th></th>\n",
              "      <th>InvoiceNo</th>\n",
              "      <th>StockCode</th>\n",
              "      <th>Description</th>\n",
              "      <th>Quantity</th>\n",
              "      <th>InvoiceDate</th>\n",
              "      <th>UnitPrice</th>\n",
              "      <th>CustomerID</th>\n",
              "      <th>Country</th>\n",
              "    </tr>\n",
              "  </thead>\n",
              "  <tbody>\n",
              "    <tr>\n",
              "      <th>299983</th>\n",
              "      <td>A563186</td>\n",
              "      <td>B</td>\n",
              "      <td>Adjust bad debt</td>\n",
              "      <td>1</td>\n",
              "      <td>2011-08-12 14:51:00</td>\n",
              "      <td>-11062.06</td>\n",
              "      <td>NaN</td>\n",
              "      <td>United Kingdom</td>\n",
              "    </tr>\n",
              "    <tr>\n",
              "      <th>299984</th>\n",
              "      <td>A563187</td>\n",
              "      <td>B</td>\n",
              "      <td>Adjust bad debt</td>\n",
              "      <td>1</td>\n",
              "      <td>2011-08-12 14:52:00</td>\n",
              "      <td>-11062.06</td>\n",
              "      <td>NaN</td>\n",
              "      <td>United Kingdom</td>\n",
              "    </tr>\n",
              "  </tbody>\n",
              "</table>\n",
              "</div>"
            ],
            "text/plain": [
              "       InvoiceNo StockCode      Description  Quantity         InvoiceDate  \\\n",
              "299983   A563186         B  Adjust bad debt         1 2011-08-12 14:51:00   \n",
              "299984   A563187         B  Adjust bad debt         1 2011-08-12 14:52:00   \n",
              "\n",
              "        UnitPrice CustomerID         Country  \n",
              "299983  -11062.06        NaN  United Kingdom  \n",
              "299984  -11062.06        NaN  United Kingdom  "
            ]
          },
          "metadata": {
            "tags": []
          },
          "execution_count": 51
        }
      ]
    },
    {
      "cell_type": "markdown",
      "metadata": {
        "id": "V6S8kFYJv6SG",
        "colab_type": "text"
      },
      "source": [
        "From their description, it looks like those negative digits are debt or discount which appear to be valid."
      ]
    },
    {
      "cell_type": "markdown",
      "metadata": {
        "id": "izxRgJXDqMv_",
        "colab_type": "text"
      },
      "source": [
        "# North Star Metric"
      ]
    },
    {
      "cell_type": "markdown",
      "metadata": {
        "id": "_xMVL-NrqPpd",
        "colab_type": "text"
      },
      "source": [
        "\n",
        "\n",
        "`'The North Star Metric is the single metric that best captures the core value that your product delivers to customers.'`\n",
        "\n",
        "`'To uncover your North Star Metric you must understand the value your most loyal customers get from using your product. Then you should try to quantify this value in a single metric. There may be more than one metric that works, but try to boil it down to a single NSM.'`\n",
        "\n",
        "-- by [Sean Ellis](https://blog.growthhackers.com/what-is-a-north-star-metric-b31a8512923f)"
      ]
    },
    {
      "cell_type": "markdown",
      "metadata": {
        "id": "ZB72DP47s0yf",
        "colab_type": "text"
      },
      "source": [
        "Let's start to build our north star metric:\n",
        "\n",
        "$Revenue = Active Customer Count * Order Count * Average Revenue per Order$"
      ]
    },
    {
      "cell_type": "markdown",
      "metadata": {
        "id": "15y6i_8_tgBH",
        "colab_type": "text"
      },
      "source": [
        "# Revenue analysis"
      ]
    },
    {
      "cell_type": "code",
      "metadata": {
        "id": "atCcqdodth_L",
        "colab_type": "code",
        "colab": {
          "base_uri": "https://localhost:8080/",
          "height": 483
        },
        "outputId": "bb6985f7-290b-4091-c4e9-9a714b4231e3"
      },
      "source": [
        "# revenue by month\n",
        "retail['revenue'] = retail['Quantity'] * retail['UnitPrice']\n",
        "retail_rev_by_month = retail.groupby(retail.InvoiceDate.dt.to_period('M'))['revenue'].sum().to_frame('Revenue')\n",
        "retail_rev_by_month"
      ],
      "execution_count": 56,
      "outputs": [
        {
          "output_type": "execute_result",
          "data": {
            "text/html": [
              "<div>\n",
              "<style scoped>\n",
              "    .dataframe tbody tr th:only-of-type {\n",
              "        vertical-align: middle;\n",
              "    }\n",
              "\n",
              "    .dataframe tbody tr th {\n",
              "        vertical-align: top;\n",
              "    }\n",
              "\n",
              "    .dataframe thead th {\n",
              "        text-align: right;\n",
              "    }\n",
              "</style>\n",
              "<table border=\"1\" class=\"dataframe\">\n",
              "  <thead>\n",
              "    <tr style=\"text-align: right;\">\n",
              "      <th></th>\n",
              "      <th>Revenue</th>\n",
              "    </tr>\n",
              "    <tr>\n",
              "      <th>InvoiceDate</th>\n",
              "      <th></th>\n",
              "    </tr>\n",
              "  </thead>\n",
              "  <tbody>\n",
              "    <tr>\n",
              "      <th>2010-12</th>\n",
              "      <td>748957.020</td>\n",
              "    </tr>\n",
              "    <tr>\n",
              "      <th>2011-01</th>\n",
              "      <td>560000.260</td>\n",
              "    </tr>\n",
              "    <tr>\n",
              "      <th>2011-02</th>\n",
              "      <td>498062.650</td>\n",
              "    </tr>\n",
              "    <tr>\n",
              "      <th>2011-03</th>\n",
              "      <td>683267.080</td>\n",
              "    </tr>\n",
              "    <tr>\n",
              "      <th>2011-04</th>\n",
              "      <td>493207.121</td>\n",
              "    </tr>\n",
              "    <tr>\n",
              "      <th>2011-05</th>\n",
              "      <td>723333.510</td>\n",
              "    </tr>\n",
              "    <tr>\n",
              "      <th>2011-06</th>\n",
              "      <td>691123.120</td>\n",
              "    </tr>\n",
              "    <tr>\n",
              "      <th>2011-07</th>\n",
              "      <td>681300.111</td>\n",
              "    </tr>\n",
              "    <tr>\n",
              "      <th>2011-08</th>\n",
              "      <td>682680.510</td>\n",
              "    </tr>\n",
              "    <tr>\n",
              "      <th>2011-09</th>\n",
              "      <td>1019687.622</td>\n",
              "    </tr>\n",
              "    <tr>\n",
              "      <th>2011-10</th>\n",
              "      <td>1070704.670</td>\n",
              "    </tr>\n",
              "    <tr>\n",
              "      <th>2011-11</th>\n",
              "      <td>1461756.250</td>\n",
              "    </tr>\n",
              "    <tr>\n",
              "      <th>2011-12</th>\n",
              "      <td>433668.010</td>\n",
              "    </tr>\n",
              "  </tbody>\n",
              "</table>\n",
              "</div>"
            ],
            "text/plain": [
              "                 Revenue\n",
              "InvoiceDate             \n",
              "2010-12       748957.020\n",
              "2011-01       560000.260\n",
              "2011-02       498062.650\n",
              "2011-03       683267.080\n",
              "2011-04       493207.121\n",
              "2011-05       723333.510\n",
              "2011-06       691123.120\n",
              "2011-07       681300.111\n",
              "2011-08       682680.510\n",
              "2011-09      1019687.622\n",
              "2011-10      1070704.670\n",
              "2011-11      1461756.250\n",
              "2011-12       433668.010"
            ]
          },
          "metadata": {
            "tags": []
          },
          "execution_count": 56
        }
      ]
    },
    {
      "cell_type": "code",
      "metadata": {
        "id": "vUtMMZ1VqOeR",
        "colab_type": "code",
        "colab": {
          "base_uri": "https://localhost:8080/",
          "height": 602
        },
        "outputId": "ebb9d7c9-6d6b-4a18-df13-b5b7272a882a"
      },
      "source": [
        "retail_rev_by_month.plot(kind='line',\n",
        "                         figsize=(12, 8),\n",
        "                         title='time series of revenue by month'\n",
        "                         )\n",
        "save_fig('time_series_of_revenue_by_month')\n"
      ],
      "execution_count": 57,
      "outputs": [
        {
          "output_type": "stream",
          "text": [
            "Image saved in:  ./BUSINESS_OPTIMISATION/IMAGES/time_series_of_revenue_by_month.png\n"
          ],
          "name": "stdout"
        },
        {
          "output_type": "display_data",
          "data": {
            "image/png": "[encoded data removed]",
            "text/plain": [
              "<Figure size 864x576 with 1 Axes>"
            ]
          },
          "metadata": {
            "tags": []
          }
        }
      ]
    },
    {
      "cell_type": "code",
      "metadata": {
        "id": "Z4cZAAvVhv_R",
        "colab_type": "code",
        "colab": {
          "base_uri": "https://localhost:8080/",
          "height": 483
        },
        "outputId": "78858e42-5bb2-4cf7-8923-0f8d9b67606b"
      },
      "source": [
        "#calculate monthly revenue growth rate\n",
        "retail_rev_by_month['MonthlyGrowth'] = retail_rev_by_month['Revenue'].pct_change()\n",
        "retail_rev_by_month"
      ],
      "execution_count": 58,
      "outputs": [
        {
          "output_type": "execute_result",
          "data": {
            "text/html": [
              "<div>\n",
              "<style scoped>\n",
              "    .dataframe tbody tr th:only-of-type {\n",
              "        vertical-align: middle;\n",
              "    }\n",
              "\n",
              "    .dataframe tbody tr th {\n",
              "        vertical-align: top;\n",
              "    }\n",
              "\n",
              "    .dataframe thead th {\n",
              "        text-align: right;\n",
              "    }\n",
              "</style>\n",
              "<table border=\"1\" class=\"dataframe\">\n",
              "  <thead>\n",
              "    <tr style=\"text-align: right;\">\n",
              "      <th></th>\n",
              "      <th>Revenue</th>\n",
              "      <th>MonthlyGrowth</th>\n",
              "    </tr>\n",
              "    <tr>\n",
              "      <th>InvoiceDate</th>\n",
              "      <th></th>\n",
              "      <th></th>\n",
              "    </tr>\n",
              "  </thead>\n",
              "  <tbody>\n",
              "    <tr>\n",
              "      <th>2010-12</th>\n",
              "      <td>748957.020</td>\n",
              "      <td>NaN</td>\n",
              "    </tr>\n",
              "    <tr>\n",
              "      <th>2011-01</th>\n",
              "      <td>560000.260</td>\n",
              "      <td>-0.252293</td>\n",
              "    </tr>\n",
              "    <tr>\n",
              "      <th>2011-02</th>\n",
              "      <td>498062.650</td>\n",
              "      <td>-0.110603</td>\n",
              "    </tr>\n",
              "    <tr>\n",
              "      <th>2011-03</th>\n",
              "      <td>683267.080</td>\n",
              "      <td>0.371850</td>\n",
              "    </tr>\n",
              "    <tr>\n",
              "      <th>2011-04</th>\n",
              "      <td>493207.121</td>\n",
              "      <td>-0.278163</td>\n",
              "    </tr>\n",
              "    <tr>\n",
              "      <th>2011-05</th>\n",
              "      <td>723333.510</td>\n",
              "      <td>0.466592</td>\n",
              "    </tr>\n",
              "    <tr>\n",
              "      <th>2011-06</th>\n",
              "      <td>691123.120</td>\n",
              "      <td>-0.044530</td>\n",
              "    </tr>\n",
              "    <tr>\n",
              "      <th>2011-07</th>\n",
              "      <td>681300.111</td>\n",
              "      <td>-0.014213</td>\n",
              "    </tr>\n",
              "    <tr>\n",
              "      <th>2011-08</th>\n",
              "      <td>682680.510</td>\n",
              "      <td>0.002026</td>\n",
              "    </tr>\n",
              "    <tr>\n",
              "      <th>2011-09</th>\n",
              "      <td>1019687.622</td>\n",
              "      <td>0.493653</td>\n",
              "    </tr>\n",
              "    <tr>\n",
              "      <th>2011-10</th>\n",
              "      <td>1070704.670</td>\n",
              "      <td>0.050032</td>\n",
              "    </tr>\n",
              "    <tr>\n",
              "      <th>2011-11</th>\n",
              "      <td>1461756.250</td>\n",
              "      <td>0.365228</td>\n",
              "    </tr>\n",
              "    <tr>\n",
              "      <th>2011-12</th>\n",
              "      <td>433668.010</td>\n",
              "      <td>-0.703324</td>\n",
              "    </tr>\n",
              "  </tbody>\n",
              "</table>\n",
              "</div>"
            ],
            "text/plain": [
              "                 Revenue  MonthlyGrowth\n",
              "InvoiceDate                            \n",
              "2010-12       748957.020            NaN\n",
              "2011-01       560000.260      -0.252293\n",
              "2011-02       498062.650      -0.110603\n",
              "2011-03       683267.080       0.371850\n",
              "2011-04       493207.121      -0.278163\n",
              "2011-05       723333.510       0.466592\n",
              "2011-06       691123.120      -0.044530\n",
              "2011-07       681300.111      -0.014213\n",
              "2011-08       682680.510       0.002026\n",
              "2011-09      1019687.622       0.493653\n",
              "2011-10      1070704.670       0.050032\n",
              "2011-11      1461756.250       0.365228\n",
              "2011-12       433668.010      -0.703324"
            ]
          },
          "metadata": {
            "tags": []
          },
          "execution_count": 58
        }
      ]
    },
    {
      "cell_type": "code",
      "metadata": {
        "id": "XZXS0kcTzovB",
        "colab_type": "code",
        "colab": {
          "base_uri": "https://localhost:8080/",
          "height": 602
        },
        "outputId": "d39cf5ae-da54-4d7f-9f6b-8a95942ee9b1"
      },
      "source": [
        "avg_growth = retail_rev_by_month.iloc[:-1, -1].mean()\n",
        "\n",
        "ax = retail_rev_by_month.iloc[:-1, -1].plot(kind='line',\n",
        "                         figsize=(12, 8),\n",
        "                         title='Grow_Rate_by_Month'\n",
        "                         )\n",
        "ax.axhline(avg_growth, linewidth=2, color='r')\n",
        "\n",
        "save_fig('Grow_Rate_by_Month')"
      ],
      "execution_count": 75,
      "outputs": [
        {
          "output_type": "stream",
          "text": [
            "Image saved in:  ./BUSINESS_OPTIMISATION/IMAGES/Grow_Rate_by_Month.png\n"
          ],
          "name": "stdout"
        },
        {
          "output_type": "display_data",
          "data": {
            "image/png": "[encoded data removed]",
            "text/plain": [
              "<Figure size 864x576 with 1 Axes>"
            ]
          },
          "metadata": {
            "tags": []
          }
        }
      ]
    },
    {
      "cell_type": "markdown",
      "metadata": {
        "id": "0dzCzAPI3MYC",
        "colab_type": "text"
      },
      "source": [
        "Growth rate is up and down, in Nov 2011, it grows about 36.5%. But what happened to April, whose growth rate is -27.8%, not growing but dropping revenue."
      ]
    },
    {
      "cell_type": "markdown",
      "metadata": {
        "id": "-1jFlX_q3sIg",
        "colab_type": "text"
      },
      "source": [
        "# Monthly Active Customers"
      ]
    },
    {
      "cell_type": "code",
      "metadata": {
        "id": "WzvmoTl50KUV",
        "colab_type": "code",
        "colab": {
          "base_uri": "https://localhost:8080/",
          "height": 1000
        },
        "outputId": "b2dfbd46-39f4-48ef-c5a1-9af63205a579"
      },
      "source": [
        "display(retail['Country'].value_counts())\n",
        "retail['Country'].value_counts().plot(kind='bar', figsize=(12, 8))\n",
        "save_fig('country_distribution')"
      ],
      "execution_count": 78,
      "outputs": [
        {
          "output_type": "display_data",
          "data": {
            "text/plain": [
              "United Kingdom          495478\n",
              "Germany                   9495\n",
              "France                    8557\n",
              "EIRE                      8196\n",
              "Spain                     2533\n",
              "Netherlands               2371\n",
              "Belgium                   2069\n",
              "Switzerland               2002\n",
              "Portugal                  1519\n",
              "Australia                 1259\n",
              "Norway                    1086\n",
              "Italy                      803\n",
              "Channel Islands            758\n",
              "Finland                    695\n",
              "Cyprus                     622\n",
              "Sweden                     462\n",
              "Unspecified                446\n",
              "Austria                    401\n",
              "Denmark                    389\n",
              "Japan                      358\n",
              "Poland                     341\n",
              "Israel                     297\n",
              "USA                        291\n",
              "Hong Kong                  288\n",
              "Singapore                  229\n",
              "Iceland                    182\n",
              "Canada                     151\n",
              "Greece                     146\n",
              "Malta                      127\n",
              "United Arab Emirates        68\n",
              "European Community          61\n",
              "RSA                         58\n",
              "Lebanon                     45\n",
              "Lithuania                   35\n",
              "Brazil                      32\n",
              "Czech Republic              30\n",
              "Bahrain                     19\n",
              "Saudi Arabia                10\n",
              "Name: Country, dtype: int64"
            ]
          },
          "metadata": {
            "tags": []
          }
        },
        {
          "output_type": "stream",
          "text": [
            "Image saved in:  ./BUSINESS_OPTIMISATION/IMAGES/country_distribution.png\n"
          ],
          "name": "stdout"
        },
        {
          "output_type": "display_data",
          "data": {
            "image/png": "[encoded data removed]",
            "text/plain": [
              "<Figure size 864x576 with 1 Axes>"
            ]
          },
          "metadata": {
            "tags": []
          }
        }
      ]
    },
    {
      "cell_type": "code",
      "metadata": {
        "id": "XQWeAnVe3879",
        "colab_type": "code",
        "colab": {
          "base_uri": "https://localhost:8080/",
          "height": 602
        },
        "outputId": "26f3f331-a92e-4964-94b3-a81f1dd631de"
      },
      "source": [
        "# Let's focus on only UK to see the active customers count\n",
        "uk_retail = retail.query(\"Country == 'United Kingdom'\")\n",
        "customers_by_month = uk_retail.groupby(uk_retail.InvoiceDate.dt.to_period('M'))['CustomerID'].nunique().to_frame('Number_of_Customers')\n",
        "customers_by_month.plot(kind='bar', figsize=(12, 8))\n",
        "save_fig('num_of_uk_customer_by_month')"
      ],
      "execution_count": 86,
      "outputs": [
        {
          "output_type": "stream",
          "text": [
            "Image saved in:  ./BUSINESS_OPTIMISATION/IMAGES/num_of_uk_customer_by_month.png\n"
          ],
          "name": "stdout"
        },
        {
          "output_type": "display_data",
          "data": {
            "image/png": "[encoded data removed]",
            "text/plain": [
              "<Figure size 864x576 with 1 Axes>"
            ]
          },
          "metadata": {
            "tags": []
          }
        }
      ]
    },
    {
      "cell_type": "code",
      "metadata": {
        "id": "-VvgNBgx4ieP",
        "colab_type": "code",
        "colab": {
          "base_uri": "https://localhost:8080/",
          "height": 483
        },
        "outputId": "22188be8-481c-4bcc-944b-49c5f7af1508"
      },
      "source": [
        "# customer growth rate\n",
        "customers_by_month['growth_rate'] = customers_by_month['Number_of_Customers'].pct_change()\n",
        "customers_by_month"
      ],
      "execution_count": 91,
      "outputs": [
        {
          "output_type": "execute_result",
          "data": {
            "text/html": [
              "<div>\n",
              "<style scoped>\n",
              "    .dataframe tbody tr th:only-of-type {\n",
              "        vertical-align: middle;\n",
              "    }\n",
              "\n",
              "    .dataframe tbody tr th {\n",
              "        vertical-align: top;\n",
              "    }\n",
              "\n",
              "    .dataframe thead th {\n",
              "        text-align: right;\n",
              "    }\n",
              "</style>\n",
              "<table border=\"1\" class=\"dataframe\">\n",
              "  <thead>\n",
              "    <tr style=\"text-align: right;\">\n",
              "      <th></th>\n",
              "      <th>Number_of_Customers</th>\n",
              "      <th>growth_rate</th>\n",
              "    </tr>\n",
              "    <tr>\n",
              "      <th>InvoiceDate</th>\n",
              "      <th></th>\n",
              "      <th></th>\n",
              "    </tr>\n",
              "  </thead>\n",
              "  <tbody>\n",
              "    <tr>\n",
              "      <th>2010-12</th>\n",
              "      <td>1343</td>\n",
              "      <td>NaN</td>\n",
              "    </tr>\n",
              "    <tr>\n",
              "      <th>2011-01</th>\n",
              "      <td>991</td>\n",
              "      <td>-0.262100</td>\n",
              "    </tr>\n",
              "    <tr>\n",
              "      <th>2011-02</th>\n",
              "      <td>970</td>\n",
              "      <td>-0.021191</td>\n",
              "    </tr>\n",
              "    <tr>\n",
              "      <th>2011-03</th>\n",
              "      <td>1324</td>\n",
              "      <td>0.364948</td>\n",
              "    </tr>\n",
              "    <tr>\n",
              "      <th>2011-04</th>\n",
              "      <td>1147</td>\n",
              "      <td>-0.133686</td>\n",
              "    </tr>\n",
              "    <tr>\n",
              "      <th>2011-05</th>\n",
              "      <td>1457</td>\n",
              "      <td>0.270270</td>\n",
              "    </tr>\n",
              "    <tr>\n",
              "      <th>2011-06</th>\n",
              "      <td>1358</td>\n",
              "      <td>-0.067948</td>\n",
              "    </tr>\n",
              "    <tr>\n",
              "      <th>2011-07</th>\n",
              "      <td>1288</td>\n",
              "      <td>-0.051546</td>\n",
              "    </tr>\n",
              "    <tr>\n",
              "      <th>2011-08</th>\n",
              "      <td>1246</td>\n",
              "      <td>-0.032609</td>\n",
              "    </tr>\n",
              "    <tr>\n",
              "      <th>2011-09</th>\n",
              "      <td>1595</td>\n",
              "      <td>0.280096</td>\n",
              "    </tr>\n",
              "    <tr>\n",
              "      <th>2011-10</th>\n",
              "      <td>1773</td>\n",
              "      <td>0.111599</td>\n",
              "    </tr>\n",
              "    <tr>\n",
              "      <th>2011-11</th>\n",
              "      <td>2443</td>\n",
              "      <td>0.377891</td>\n",
              "    </tr>\n",
              "    <tr>\n",
              "      <th>2011-12</th>\n",
              "      <td>753</td>\n",
              "      <td>-0.691772</td>\n",
              "    </tr>\n",
              "  </tbody>\n",
              "</table>\n",
              "</div>"
            ],
            "text/plain": [
              "             Number_of_Customers  growth_rate\n",
              "InvoiceDate                                  \n",
              "2010-12                     1343          NaN\n",
              "2011-01                      991    -0.262100\n",
              "2011-02                      970    -0.021191\n",
              "2011-03                     1324     0.364948\n",
              "2011-04                     1147    -0.133686\n",
              "2011-05                     1457     0.270270\n",
              "2011-06                     1358    -0.067948\n",
              "2011-07                     1288    -0.051546\n",
              "2011-08                     1246    -0.032609\n",
              "2011-09                     1595     0.280096\n",
              "2011-10                     1773     0.111599\n",
              "2011-11                     2443     0.377891\n",
              "2011-12                      753    -0.691772"
            ]
          },
          "metadata": {
            "tags": []
          },
          "execution_count": 91
        }
      ]
    },
    {
      "cell_type": "code",
      "metadata": {
        "id": "mWwGH3kO5D4m",
        "colab_type": "code",
        "colab": {
          "base_uri": "https://localhost:8080/",
          "height": 602
        },
        "outputId": "cdbee222-327c-458b-d100-260ce0e22794"
      },
      "source": [
        "customers_by_month.iloc[:-1, -1].plot(kind='bar', figsize=(12, 8))\n",
        "save_fig('num_customer_change_by_month')"
      ],
      "execution_count": 92,
      "outputs": [
        {
          "output_type": "stream",
          "text": [
            "Image saved in:  ./BUSINESS_OPTIMISATION/IMAGES/num_customer_change_by_month.png\n"
          ],
          "name": "stdout"
        },
        {
          "output_type": "display_data",
          "data": {
            "image/png": "[encoded data removed]",
            "text/plain": [
              "<Figure size 864x576 with 1 Axes>"
            ]
          },
          "metadata": {
            "tags": []
          }
        }
      ]
    },
    {
      "cell_type": "code",
      "metadata": {
        "id": "-69h7Xv05T7L",
        "colab_type": "code",
        "colab": {}
      },
      "source": [
        ""
      ],
      "execution_count": 0,
      "outputs": []
    }
  ]
}